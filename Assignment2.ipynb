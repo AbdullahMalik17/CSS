{
  "nbformat": 4,
  "nbformat_minor": 0,
  "metadata": {
    "colab": {
      "provenance": [],
      "authorship_tag": "ABX9TyMblj8FunweA+eazp7a0xII",
      "include_colab_link": true
    },
    "kernelspec": {
      "name": "python3",
      "display_name": "Python 3"
    },
    "language_info": {
      "name": "python"
    }
  },
  "cells": [
    {
      "cell_type": "markdown",
      "metadata": {
        "id": "view-in-github",
        "colab_type": "text"
      },
      "source": [
        "<a href=\"https://colab.research.google.com/github/AbdullahMalik17/CSS/blob/main/Assignment2.ipynb\" target=\"_parent\"><img src=\"https://colab.research.google.com/assets/colab-badge.svg\" alt=\"Open In Colab\"/></a>"
      ]
    },
    {
      "cell_type": "markdown",
      "source": [
        "# Task 1. Assalsam o Alaikum , I am writing a code of print function ."
      ],
      "metadata": {
        "id": "Vl59XePT-gVz"
      }
    },
    {
      "cell_type": "code",
      "source": [
        "print(\"Hi , everyone I a learning Python .\")"
      ],
      "metadata": {
        "colab": {
          "base_uri": "https://localhost:8080/"
        },
        "id": "S1fwyaJ8-1Jz",
        "outputId": "0d187e0e-052b-4b85-d26e-e46f1ea306d2"
      },
      "execution_count": null,
      "outputs": [
        {
          "output_type": "stream",
          "name": "stdout",
          "text": [
            "Hi , everyone I a learning Python .\n"
          ]
        }
      ]
    },
    {
      "cell_type": "markdown",
      "source": [
        "# Task 2 . I write a code to use variable ."
      ],
      "metadata": {
        "id": "HamMiOwnAVsd"
      }
    },
    {
      "cell_type": "code",
      "source": [
        "name = \"Abdullah Athar \"\n",
        "age = 16\n",
        "animal = \"Cat \"\n",
        "print(f\"Name :{name}\")\n",
        "print(f\"Age :{age} years\")\n",
        "print(f\"Favourite Animal :{animal}\")\n"
      ],
      "metadata": {
        "colab": {
          "base_uri": "https://localhost:8080/"
        },
        "id": "0P_sGhajAh0j",
        "outputId": "717dbdcf-f3a4-4b1f-e570-d659c0958738"
      },
      "execution_count": null,
      "outputs": [
        {
          "output_type": "stream",
          "name": "stdout",
          "text": [
            "Name :Abdullah Athar \n",
            "Age :16 years\n",
            "Favourite Animal :Cat \n"
          ]
        }
      ]
    },
    {
      "cell_type": "markdown",
      "source": [
        "# Task 3 . Using Variable in print function using text ."
      ],
      "metadata": {
        "id": "W4dA7_AiCHSZ"
      }
    },
    {
      "cell_type": "code",
      "source": [
        "name = \"Abdullah Athar \"\n",
        "age = 16\n",
        "animal = \"Cat \"\n",
        "print(f\"\"\"My name is {name}.\n",
        "I am {age} years old .\n",
        "My favourite animal is {animal}\"\"\")"
      ],
      "metadata": {
        "colab": {
          "base_uri": "https://localhost:8080/"
        },
        "id": "S7NG7zXECU2J",
        "outputId": "06bb0c04-3238-4c18-ecc3-3df4b9e9690f"
      },
      "execution_count": null,
      "outputs": [
        {
          "output_type": "stream",
          "name": "stdout",
          "text": [
            "My name is Abdullah Athar .\n",
            "I am 16 years old .\n",
            "My favourite animal is Cat \n"
          ]
        }
      ]
    },
    {
      "cell_type": "markdown",
      "source": [
        "# Task 4 . Playing with different Data types ."
      ],
      "metadata": {
        "id": "FTpRfQVQDNr7"
      }
    },
    {
      "cell_type": "code",
      "source": [
        "movie = \" 3 Idiots \"\n",
        "birthyear = 2008\n",
        "cheetos=25.5\n",
        "print(f\"Favourite movie :{movie}\")\n",
        "print(f\"Date of birth :{birthyear}\")\n",
        "print(f\"The price of my favourite snack is :{cheetos}\")"
      ],
      "metadata": {
        "colab": {
          "base_uri": "https://localhost:8080/"
        },
        "id": "NeD6pzRPDVn3",
        "outputId": "fe1a5ca1-4a23-4634-dbf6-3bd4eb89f88c"
      },
      "execution_count": null,
      "outputs": [
        {
          "output_type": "stream",
          "name": "stdout",
          "text": [
            "Favourite movie : 3 Idiots \n",
            "Date of birth :2008\n",
            "The price of my favourite snack is :25.5\n"
          ]
        }
      ]
    },
    {
      "cell_type": "markdown",
      "source": [
        "# Task 5 . Writing hobby ."
      ],
      "metadata": {
        "id": "pUIaGvauFTmb"
      }
    },
    {
      "cell_type": "code",
      "source": [
        "hobby=\"Learning Vocabulary\"\n",
        "print(\"My Favourite hobby is \",hobby)"
      ],
      "metadata": {
        "colab": {
          "base_uri": "https://localhost:8080/"
        },
        "id": "qtHkpQ38FZju",
        "outputId": "1429e64c-6fa1-4c74-c49e-ec21c4c587aa"
      },
      "execution_count": null,
      "outputs": [
        {
          "output_type": "stream",
          "name": "stdout",
          "text": [
            "My Favourite hobby is  Learning Vocabulary\n"
          ]
        }
      ]
    },
    {
      "cell_type": "markdown",
      "source": [
        "# Task 6 . Declaring a number and sum them .  "
      ],
      "metadata": {
        "id": "9Aur0BYBF02V"
      }
    },
    {
      "cell_type": "code",
      "source": [
        "a = 7\n",
        "b = 8\n",
        "c = a + b\n",
        "print(f\"a = {a}\")\n",
        "print(f\"b = {b}\")\n",
        "print(f\"c = {c}\")"
      ],
      "metadata": {
        "colab": {
          "base_uri": "https://localhost:8080/"
        },
        "id": "sZFCw7EmF9dq",
        "outputId": "d2cf6da8-8b5c-448a-a039-1219e926c9cb"
      },
      "execution_count": null,
      "outputs": [
        {
          "output_type": "stream",
          "name": "stdout",
          "text": [
            "a = 7\n",
            "b = 8\n",
            "c = 15\n"
          ]
        }
      ]
    }
  ]
}